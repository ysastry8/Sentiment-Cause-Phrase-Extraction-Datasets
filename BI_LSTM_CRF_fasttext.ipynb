{
  "nbformat": 4,
  "nbformat_minor": 0,
  "metadata": {
    "colab": {
      "name": "BI-LSTM-CRF-fasttext-tv.ipynb",
      "provenance": [],
      "collapsed_sections": []
    },
    "kernelspec": {
      "display_name": "Python 3",
      "name": "python3"
    },
    "language_info": {
      "name": "python"
    }
  },
  "cells": [
    {
      "cell_type": "code",
      "metadata": {
        "id": "7dgX0kAxtcSl"
      },
      "source": [
        ""
      ],
      "execution_count": null,
      "outputs": []
    },
    {
      "cell_type": "code",
      "metadata": {
        "id": "Fw21KuDeTOoh"
      },
      "source": [
        "#https://github.com/floydhub/named-entity-recognition-template/blob/master/ner.ipynb"
      ],
      "execution_count": null,
      "outputs": []
    },
    {
      "cell_type": "code",
      "metadata": {
        "colab": {
          "base_uri": "https://localhost:8080/"
        },
        "id": "7R2tCAliUJw4",
        "outputId": "026a525f-e76d-4db4-8b4c-fbfbc8eb29f6"
      },
      "source": [
        "! pip -q install git+https://www.github.com/keras-team/keras-contrib.git sklearn-crfsuite"
      ],
      "execution_count": null,
      "outputs": [
        {
          "output_type": "stream",
          "text": [
            "\u001b[?25l\r\u001b[K     |▍                               | 10 kB 24.8 MB/s eta 0:00:01\r\u001b[K     |▉                               | 20 kB 31.0 MB/s eta 0:00:01\r\u001b[K     |█▎                              | 30 kB 35.5 MB/s eta 0:00:01\r\u001b[K     |█▊                              | 40 kB 36.6 MB/s eta 0:00:01\r\u001b[K     |██▏                             | 51 kB 22.4 MB/s eta 0:00:01\r\u001b[K     |██▋                             | 61 kB 24.2 MB/s eta 0:00:01\r\u001b[K     |███                             | 71 kB 26.1 MB/s eta 0:00:01\r\u001b[K     |███▌                            | 81 kB 23.2 MB/s eta 0:00:01\r\u001b[K     |████                            | 92 kB 20.8 MB/s eta 0:00:01\r\u001b[K     |████▍                           | 102 kB 21.9 MB/s eta 0:00:01\r\u001b[K     |████▉                           | 112 kB 21.9 MB/s eta 0:00:01\r\u001b[K     |█████▎                          | 122 kB 21.9 MB/s eta 0:00:01\r\u001b[K     |█████▊                          | 133 kB 21.9 MB/s eta 0:00:01\r\u001b[K     |██████▏                         | 143 kB 21.9 MB/s eta 0:00:01\r\u001b[K     |██████▋                         | 153 kB 21.9 MB/s eta 0:00:01\r\u001b[K     |███████                         | 163 kB 21.9 MB/s eta 0:00:01\r\u001b[K     |███████▌                        | 174 kB 21.9 MB/s eta 0:00:01\r\u001b[K     |████████                        | 184 kB 21.9 MB/s eta 0:00:01\r\u001b[K     |████████▍                       | 194 kB 21.9 MB/s eta 0:00:01\r\u001b[K     |████████▉                       | 204 kB 21.9 MB/s eta 0:00:01\r\u001b[K     |█████████▎                      | 215 kB 21.9 MB/s eta 0:00:01\r\u001b[K     |█████████▊                      | 225 kB 21.9 MB/s eta 0:00:01\r\u001b[K     |██████████▏                     | 235 kB 21.9 MB/s eta 0:00:01\r\u001b[K     |██████████▋                     | 245 kB 21.9 MB/s eta 0:00:01\r\u001b[K     |███████████                     | 256 kB 21.9 MB/s eta 0:00:01\r\u001b[K     |███████████▌                    | 266 kB 21.9 MB/s eta 0:00:01\r\u001b[K     |████████████                    | 276 kB 21.9 MB/s eta 0:00:01\r\u001b[K     |████████████▍                   | 286 kB 21.9 MB/s eta 0:00:01\r\u001b[K     |████████████▉                   | 296 kB 21.9 MB/s eta 0:00:01\r\u001b[K     |█████████████▏                  | 307 kB 21.9 MB/s eta 0:00:01\r\u001b[K     |█████████████▋                  | 317 kB 21.9 MB/s eta 0:00:01\r\u001b[K     |██████████████                  | 327 kB 21.9 MB/s eta 0:00:01\r\u001b[K     |██████████████▌                 | 337 kB 21.9 MB/s eta 0:00:01\r\u001b[K     |███████████████                 | 348 kB 21.9 MB/s eta 0:00:01\r\u001b[K     |███████████████▍                | 358 kB 21.9 MB/s eta 0:00:01\r\u001b[K     |███████████████▉                | 368 kB 21.9 MB/s eta 0:00:01\r\u001b[K     |████████████████▎               | 378 kB 21.9 MB/s eta 0:00:01\r\u001b[K     |████████████████▊               | 389 kB 21.9 MB/s eta 0:00:01\r\u001b[K     |█████████████████▏              | 399 kB 21.9 MB/s eta 0:00:01\r\u001b[K     |█████████████████▋              | 409 kB 21.9 MB/s eta 0:00:01\r\u001b[K     |██████████████████              | 419 kB 21.9 MB/s eta 0:00:01\r\u001b[K     |██████████████████▌             | 430 kB 21.9 MB/s eta 0:00:01\r\u001b[K     |███████████████████             | 440 kB 21.9 MB/s eta 0:00:01\r\u001b[K     |███████████████████▍            | 450 kB 21.9 MB/s eta 0:00:01\r\u001b[K     |███████████████████▉            | 460 kB 21.9 MB/s eta 0:00:01\r\u001b[K     |████████████████████▎           | 471 kB 21.9 MB/s eta 0:00:01\r\u001b[K     |████████████████████▊           | 481 kB 21.9 MB/s eta 0:00:01\r\u001b[K     |█████████████████████▏          | 491 kB 21.9 MB/s eta 0:00:01\r\u001b[K     |█████████████████████▋          | 501 kB 21.9 MB/s eta 0:00:01\r\u001b[K     |██████████████████████          | 512 kB 21.9 MB/s eta 0:00:01\r\u001b[K     |██████████████████████▌         | 522 kB 21.9 MB/s eta 0:00:01\r\u001b[K     |███████████████████████         | 532 kB 21.9 MB/s eta 0:00:01\r\u001b[K     |███████████████████████▍        | 542 kB 21.9 MB/s eta 0:00:01\r\u001b[K     |███████████████████████▉        | 552 kB 21.9 MB/s eta 0:00:01\r\u001b[K     |████████████████████████▎       | 563 kB 21.9 MB/s eta 0:00:01\r\u001b[K     |████████████████████████▊       | 573 kB 21.9 MB/s eta 0:00:01\r\u001b[K     |█████████████████████████▏      | 583 kB 21.9 MB/s eta 0:00:01\r\u001b[K     |█████████████████████████▋      | 593 kB 21.9 MB/s eta 0:00:01\r\u001b[K     |██████████████████████████      | 604 kB 21.9 MB/s eta 0:00:01\r\u001b[K     |██████████████████████████▍     | 614 kB 21.9 MB/s eta 0:00:01\r\u001b[K     |██████████████████████████▉     | 624 kB 21.9 MB/s eta 0:00:01\r\u001b[K     |███████████████████████████▎    | 634 kB 21.9 MB/s eta 0:00:01\r\u001b[K     |███████████████████████████▊    | 645 kB 21.9 MB/s eta 0:00:01\r\u001b[K     |████████████████████████████▏   | 655 kB 21.9 MB/s eta 0:00:01\r\u001b[K     |████████████████████████████▋   | 665 kB 21.9 MB/s eta 0:00:01\r\u001b[K     |█████████████████████████████   | 675 kB 21.9 MB/s eta 0:00:01\r\u001b[K     |█████████████████████████████▌  | 686 kB 21.9 MB/s eta 0:00:01\r\u001b[K     |██████████████████████████████  | 696 kB 21.9 MB/s eta 0:00:01\r\u001b[K     |██████████████████████████████▍ | 706 kB 21.9 MB/s eta 0:00:01\r\u001b[K     |██████████████████████████████▉ | 716 kB 21.9 MB/s eta 0:00:01\r\u001b[K     |███████████████████████████████▎| 727 kB 21.9 MB/s eta 0:00:01\r\u001b[K     |███████████████████████████████▊| 737 kB 21.9 MB/s eta 0:00:01\r\u001b[K     |████████████████████████████████| 743 kB 21.9 MB/s \n",
            "\u001b[?25h  Building wheel for keras-contrib (setup.py) ... \u001b[?25l\u001b[?25hdone\n"
          ],
          "name": "stdout"
        }
      ]
    },
    {
      "cell_type": "code",
      "metadata": {
        "colab": {
          "base_uri": "https://localhost:8080/"
        },
        "id": "3fBTFFv9UQYB",
        "outputId": "7b1dcd50-c416-43be-c89e-4bb324736887"
      },
      "source": [
        "%tensorflow_version 1.x"
      ],
      "execution_count": null,
      "outputs": [
        {
          "output_type": "stream",
          "text": [
            "TensorFlow 1.x selected.\n"
          ],
          "name": "stdout"
        }
      ]
    },
    {
      "cell_type": "code",
      "metadata": {
        "colab": {
          "base_uri": "https://localhost:8080/"
        },
        "id": "7faaze_LUS6I",
        "outputId": "dadb93c4-8439-47cc-a3f5-44cfa75a0b54"
      },
      "source": [
        "import tensorflow as tf\n",
        "print(tf.__version__)"
      ],
      "execution_count": null,
      "outputs": [
        {
          "output_type": "stream",
          "text": [
            "1.15.2\n"
          ],
          "name": "stdout"
        }
      ]
    },
    {
      "cell_type": "code",
      "metadata": {
        "colab": {
          "base_uri": "https://localhost:8080/"
        },
        "id": "OlgCbmgmUVog",
        "outputId": "79345ad4-0079-4882-8f36-73926dd8e08d"
      },
      "source": [
        "import tensorflow as tf\n",
        "import keras\n",
        "\n",
        "import pandas as pd\n",
        "import numpy as np\n",
        "import matplotlib.pyplot as plt"
      ],
      "execution_count": null,
      "outputs": [
        {
          "output_type": "stream",
          "text": [
            "Using TensorFlow backend.\n"
          ],
          "name": "stderr"
        }
      ]
    },
    {
      "cell_type": "code",
      "metadata": {
        "id": "VSeL31oyUYBN"
      },
      "source": [
        "# Hyperparams if GPU is available\n",
        "if tf.test.is_gpu_available():\n",
        "    BATCH_SIZE = 512  # Number of examples used in each iteration\n",
        "    EPOCHS = 5  # Number of passes through entire dataset\n",
        "    MAX_LEN = 75  # Max length of review (in words)\n",
        "    EMBEDDING = 40  # Dimension of word embedding vector\n",
        "\n",
        "    \n",
        "# Hyperparams for CPU training\n",
        "else:\n",
        "    BATCH_SIZE = 32\n",
        "    EPOCHS = 5\n",
        "    MAX_LEN = 75\n",
        "    EMBEDDING = 20"
      ],
      "execution_count": null,
      "outputs": []
    },
    {
      "cell_type": "code",
      "metadata": {
        "colab": {
          "base_uri": "https://localhost:8080/"
        },
        "id": "TK8ONHVZUcYQ",
        "outputId": "7c2802f1-488d-44af-e1d0-be52c476ffae"
      },
      "source": [
        "from google.colab import drive\n",
        "drive.mount('/content/drive')"
      ],
      "execution_count": null,
      "outputs": [
        {
          "output_type": "stream",
          "text": [
            "Mounted at /content/drive\n"
          ],
          "name": "stdout"
        }
      ]
    },
    {
      "cell_type": "code",
      "metadata": {
        "id": "G5m8STvkUhRg"
      },
      "source": [
        "import io\n",
        "data = pd.read_csv('/content/drive/MyDrive/tv_reviews(1) (1).csv',encoding=\"latin1\")"
      ],
      "execution_count": null,
      "outputs": []
    },
    {
      "cell_type": "code",
      "metadata": {
        "colab": {
          "base_uri": "https://localhost:8080/"
        },
        "id": "7pL0q2mkUnJI",
        "outputId": "98bf830d-0c71-4248-fa94-dd8c9477a3e4"
      },
      "source": [
        "data = data.fillna(method=\"ffill\")\n",
        "print(\"Number of sentences: \", len(data.groupby(['sentence_id'])))\n",
        "\n",
        "words = list(set(data[\"words\"].values))\n",
        "n_words = len(words)\n",
        "print(\"Number of words in the dataset: \", n_words)\n",
        "\n",
        "tags = list(set(data[\"tags\"].values))\n",
        "print(\"tags:\", tags)\n",
        "n_tags = len(tags)\n",
        "print(\"Number of Labels: \", n_tags)\n",
        "\n",
        "print(\"What the dataset looks like:\")\n",
        "# Show the first 10 rows\n"
      ],
      "execution_count": null,
      "outputs": [
        {
          "output_type": "stream",
          "text": [
            "Number of sentences:  12044\n",
            "Number of words in the dataset:  5107\n",
            "tags: ['BOC', 'O', 'IOC']\n",
            "Number of Labels:  3\n",
            "What the dataset looks like:\n"
          ],
          "name": "stdout"
        }
      ]
    },
    {
      "cell_type": "code",
      "metadata": {
        "colab": {
          "base_uri": "https://localhost:8080/",
          "height": 419
        },
        "id": "cmybODJPUqBI",
        "outputId": "bc4d43c2-fb27-4033-b933-e36200ec2d7a"
      },
      "source": [
        "data.head(n=75)"
      ],
      "execution_count": null,
      "outputs": [
        {
          "output_type": "execute_result",
          "data": {
            "text/html": [
              "<div>\n",
              "<style scoped>\n",
              "    .dataframe tbody tr th:only-of-type {\n",
              "        vertical-align: middle;\n",
              "    }\n",
              "\n",
              "    .dataframe tbody tr th {\n",
              "        vertical-align: top;\n",
              "    }\n",
              "\n",
              "    .dataframe thead th {\n",
              "        text-align: right;\n",
              "    }\n",
              "</style>\n",
              "<table border=\"1\" class=\"dataframe\">\n",
              "  <thead>\n",
              "    <tr style=\"text-align: right;\">\n",
              "      <th></th>\n",
              "      <th>Unnamed: 0</th>\n",
              "      <th>sentence_id</th>\n",
              "      <th>words</th>\n",
              "      <th>tags</th>\n",
              "    </tr>\n",
              "  </thead>\n",
              "  <tbody>\n",
              "    <tr>\n",
              "      <th>0</th>\n",
              "      <td>0</td>\n",
              "      <td>sentence:1</td>\n",
              "      <td>value</td>\n",
              "      <td>O</td>\n",
              "    </tr>\n",
              "    <tr>\n",
              "      <th>1</th>\n",
              "      <td>1</td>\n",
              "      <td>sentence:1</td>\n",
              "      <td>for</td>\n",
              "      <td>O</td>\n",
              "    </tr>\n",
              "    <tr>\n",
              "      <th>2</th>\n",
              "      <td>2</td>\n",
              "      <td>sentence:1</td>\n",
              "      <td>money</td>\n",
              "      <td>O</td>\n",
              "    </tr>\n",
              "    <tr>\n",
              "      <th>3</th>\n",
              "      <td>3</td>\n",
              "      <td>sentence:1</td>\n",
              "      <td>completed</td>\n",
              "      <td>O</td>\n",
              "    </tr>\n",
              "    <tr>\n",
              "      <th>4</th>\n",
              "      <td>4</td>\n",
              "      <td>sentence:1</td>\n",
              "      <td>using</td>\n",
              "      <td>O</td>\n",
              "    </tr>\n",
              "    <tr>\n",
              "      <th>...</th>\n",
              "      <td>...</td>\n",
              "      <td>...</td>\n",
              "      <td>...</td>\n",
              "      <td>...</td>\n",
              "    </tr>\n",
              "    <tr>\n",
              "      <th>70</th>\n",
              "      <td>70</td>\n",
              "      <td>sentence:5</td>\n",
              "      <td>sound</td>\n",
              "      <td>O</td>\n",
              "    </tr>\n",
              "    <tr>\n",
              "      <th>71</th>\n",
              "      <td>71</td>\n",
              "      <td>sentence:5</td>\n",
              "      <td>quality</td>\n",
              "      <td>O</td>\n",
              "    </tr>\n",
              "    <tr>\n",
              "      <th>72</th>\n",
              "      <td>72</td>\n",
              "      <td>sentence:6</td>\n",
              "      <td>nice</td>\n",
              "      <td>BOC</td>\n",
              "    </tr>\n",
              "    <tr>\n",
              "      <th>73</th>\n",
              "      <td>73</td>\n",
              "      <td>sentence:6</td>\n",
              "      <td>to</td>\n",
              "      <td>IOC</td>\n",
              "    </tr>\n",
              "    <tr>\n",
              "      <th>74</th>\n",
              "      <td>74</td>\n",
              "      <td>sentence:6</td>\n",
              "      <td>for</td>\n",
              "      <td>IOC</td>\n",
              "    </tr>\n",
              "  </tbody>\n",
              "</table>\n",
              "<p>75 rows × 4 columns</p>\n",
              "</div>"
            ],
            "text/plain": [
              "    Unnamed: 0 sentence_id      words tags\n",
              "0            0  sentence:1      value    O\n",
              "1            1  sentence:1        for    O\n",
              "2            2  sentence:1      money    O\n",
              "3            3  sentence:1  completed    O\n",
              "4            4  sentence:1      using    O\n",
              "..         ...         ...        ...  ...\n",
              "70          70  sentence:5      sound    O\n",
              "71          71  sentence:5    quality    O\n",
              "72          72  sentence:6       nice  BOC\n",
              "73          73  sentence:6         to  IOC\n",
              "74          74  sentence:6        for  IOC\n",
              "\n",
              "[75 rows x 4 columns]"
            ]
          },
          "metadata": {
            "tags": []
          },
          "execution_count": 10
        }
      ]
    },
    {
      "cell_type": "code",
      "metadata": {
        "colab": {
          "base_uri": "https://localhost:8080/"
        },
        "id": "Yo2YkVyIUtgo",
        "outputId": "eefa5d44-c518-4590-bccf-6e2509d50318"
      },
      "source": [
        "class SentenceGetter(object):\n",
        "    \"\"\"Class to Get the sentence in this format:\n",
        "    [(Token_1, Part_of_Speech_1, Tag_1), ..., (Token_n, Part_of_Speech_1, Tag_1)]\"\"\"\n",
        "    def __init__(self, data):\n",
        "        \"\"\"Args:\n",
        "            data is the pandas.DataFrame which contains the above dataset\"\"\"\n",
        "        self.n_sent = 1\n",
        "        self.data = data\n",
        "        self.empty = False\n",
        "        agg_func = lambda s: [(w,t) for w, t in zip(s[\"words\"].values.tolist(),\n",
        "                                                           \n",
        "                                                           s[\"tags\"].values.tolist())]\n",
        "        self.grouped = self.data.groupby(\"sentence_id\").apply(agg_func)\n",
        "        self.sentences = [s for s in self.grouped]\n",
        "    \n",
        "    def get_next(self):\n",
        "        \"\"\"Return one sentence\"\"\"\n",
        "        try:\n",
        "            s = self.grouped[\"sentence:{}\".format(self.n_sent)]\n",
        "            self.n_sent += 1\n",
        "            return s\n",
        "        except:\n",
        "            return None\n",
        "        \n",
        "getter = SentenceGetter(data)\n",
        "sent = getter.get_next()\n",
        "print('This is what a sentence looks like:')\n",
        "print(sent)"
      ],
      "execution_count": null,
      "outputs": [
        {
          "output_type": "stream",
          "text": [
            "This is what a sentence looks like:\n",
            "[('value', 'O'), ('for', 'O'), ('money', 'O'), ('completed', 'O'), ('using', 'O'), ('a', 'O'), ('year', 'O'), ('now', 'O'), ('some', 'BOC'), ('times', 'IOC'), ('the', 'IOC'), ('screen', 'IOC'), ('cast', 'IOC'), ('or', 'IOC'), ('chrome', 'IOC'), ('cast', 'IOC'), ('gets', 'IOC'), ('stuck', 'IOC'), ('which', 'O'), ('is', 'O'), ('very', 'O'), ('rarely', 'O'), ('but', 'O'), ('this', 'O'), ('issue', 'O'), ('comes', 'O')]\n"
          ],
          "name": "stdout"
        }
      ]
    },
    {
      "cell_type": "code",
      "metadata": {
        "colab": {
          "base_uri": "https://localhost:8080/",
          "height": 295
        },
        "id": "7WblnFRmUwSd",
        "outputId": "22e9aeb7-02ba-4964-de26-61fa7dc86ccf"
      },
      "source": [
        "# Get all the sentences\n",
        "sentences = getter.sentences\n",
        "\n",
        "# Plot sentence by lenght\n",
        "plt.hist([len(s) for s in sentences], bins=50)\n",
        "plt.title('Token per sentence')\n",
        "plt.xlabel('Len (number of token)')\n",
        "plt.ylabel('# samples')\n",
        "plt.show()"
      ],
      "execution_count": null,
      "outputs": [
        {
          "output_type": "display_data",
          "data": {
            "image/png": "[encoded data removed]",
            "text/plain": [
              "<Figure size 432x288 with 1 Axes>"
            ]
          },
          "metadata": {
            "tags": [],
            "needs_background": "light"
          }
        }
      ]
    },
    {
      "cell_type": "code",
      "metadata": {
        "colab": {
          "base_uri": "https://localhost:8080/"
        },
        "id": "XezaiFc9U0ug",
        "outputId": "c3e6ff39-2909-4784-c042-77c2c42edfbd"
      },
      "source": [
        "# Vocabulary Key:word -> Value:token_index\n",
        "# The first 2 entries are reserved for PAD and UNK\n",
        "word2idx = {w: i + 2 for i, w in enumerate(words)}\n",
        "word2idx[\"UNK\"] = 1 # Unknown words\n",
        "word2idx[\"PAD\"] = 0 # Padding\n",
        "\n",
        "# Vocabulary Key:token_index -> Value:word\n",
        "idx2word = {i: w for w, i in word2idx.items()}\n",
        "\n",
        "# Vocabulary Key:Label/Tag -> Value:tag_index\n",
        "# The first entry is reserved for PAD\n",
        "tag2idx = {t: i+1 for i, t in enumerate(tags)}\n",
        "tag2idx[\"PAD\"] = 0\n",
        "\n",
        "# Vocabulary Key:tag_index -> Value:Label/Tag\n",
        "idx2tag = {i: w for w, i in tag2idx.items()}\n",
        "\n",
        "# print(\"The word Obama is identified by the index: {}\".format(word2idx[\"Obama\"]))\n",
        "# print(\"The labels B-geo(which defines Geopraphical Enitities) is identified by the index: {}\".format(tag2idx[\"B-geo\"]))\n",
        "\n",
        "\n",
        "from keras.preprocessing.sequence import pad_sequences\n",
        "# Convert each sentence from list of Token to list of word_index\n",
        "X = [[word2idx[w[0]] for w in s] for s in sentences]\n",
        "# Padding each sentence to have the same lenght\n",
        "X = pad_sequences(maxlen=MAX_LEN, sequences=X, padding=\"post\", value=word2idx[\"PAD\"])\n",
        "\n",
        "# Convert Tag/Label to tag_index\n",
        "y = [[tag2idx[w[1]] for w in s] for s in sentences]\n",
        "# Padding each sentence to have the same lenght\n",
        "y = pad_sequences(maxlen=MAX_LEN, sequences=y, padding=\"post\", value=tag2idx[\"PAD\"])\n",
        "\n",
        "from keras.utils import to_categorical\n",
        "# One-Hot encode\n",
        "y = [to_categorical(i, num_classes=n_tags+1) for i in y]  # n_tags+1(PAD)\n",
        "\n",
        "from sklearn.model_selection import train_test_split\n",
        "X_tr, X_te, y_tr, y_te = train_test_split(X, y, test_size=0.1)\n",
        "X_tr.shape, X_te.shape, np.array(y_tr).shape, np.array(y_te).shape\n",
        "\n",
        "print('Raw Sample: ', ' '.join([w[0] for w in sentences[0]]))\n",
        "print('Raw Label: ', ' '.join([w[1] for w in sentences[0]]))\n",
        "print('After processing, sample:', X[0])\n",
        "print('After processing, labels:', y[0])"
      ],
      "execution_count": null,
      "outputs": [
        {
          "output_type": "stream",
          "text": [
            "Raw Sample:  value for money completed using a year now some times the screen cast or chrome cast gets stuck which is very rarely but this issue comes\n",
            "Raw Label:  O O O O O O O O BOC IOC IOC IOC IOC IOC IOC IOC IOC IOC O O O O O O O O\n",
            "After processing, sample: [3228 3997 4230 4541 1647 4827  483   82 2250 4839 3899 2352 2408 2534\n",
            " 3766 2408 3088 2786 2665 4543 1796 2905 4678 3001 5032 1310    0    0\n",
            "    0    0    0    0    0    0    0    0    0    0    0    0    0    0\n",
            "    0    0    0    0    0    0    0    0    0    0    0    0    0    0\n",
            "    0    0    0    0    0    0    0    0    0    0    0    0    0    0\n",
            "    0    0    0    0    0]\n",
            "After processing, labels: [[0. 0. 1. 0.]\n",
            " [0. 0. 1. 0.]\n",
            " [0. 0. 1. 0.]\n",
            " [0. 0. 1. 0.]\n",
            " [0. 0. 1. 0.]\n",
            " [0. 0. 1. 0.]\n",
            " [0. 0. 1. 0.]\n",
            " [0. 0. 1. 0.]\n",
            " [0. 1. 0. 0.]\n",
            " [0. 0. 0. 1.]\n",
            " [0. 0. 0. 1.]\n",
            " [0. 0. 0. 1.]\n",
            " [0. 0. 0. 1.]\n",
            " [0. 0. 0. 1.]\n",
            " [0. 0. 0. 1.]\n",
            " [0. 0. 0. 1.]\n",
            " [0. 0. 0. 1.]\n",
            " [0. 0. 0. 1.]\n",
            " [0. 0. 1. 0.]\n",
            " [0. 0. 1. 0.]\n",
            " [0. 0. 1. 0.]\n",
            " [0. 0. 1. 0.]\n",
            " [0. 0. 1. 0.]\n",
            " [0. 0. 1. 0.]\n",
            " [0. 0. 1. 0.]\n",
            " [0. 0. 1. 0.]\n",
            " [1. 0. 0. 0.]\n",
            " [1. 0. 0. 0.]\n",
            " [1. 0. 0. 0.]\n",
            " [1. 0. 0. 0.]\n",
            " [1. 0. 0. 0.]\n",
            " [1. 0. 0. 0.]\n",
            " [1. 0. 0. 0.]\n",
            " [1. 0. 0. 0.]\n",
            " [1. 0. 0. 0.]\n",
            " [1. 0. 0. 0.]\n",
            " [1. 0. 0. 0.]\n",
            " [1. 0. 0. 0.]\n",
            " [1. 0. 0. 0.]\n",
            " [1. 0. 0. 0.]\n",
            " [1. 0. 0. 0.]\n",
            " [1. 0. 0. 0.]\n",
            " [1. 0. 0. 0.]\n",
            " [1. 0. 0. 0.]\n",
            " [1. 0. 0. 0.]\n",
            " [1. 0. 0. 0.]\n",
            " [1. 0. 0. 0.]\n",
            " [1. 0. 0. 0.]\n",
            " [1. 0. 0. 0.]\n",
            " [1. 0. 0. 0.]\n",
            " [1. 0. 0. 0.]\n",
            " [1. 0. 0. 0.]\n",
            " [1. 0. 0. 0.]\n",
            " [1. 0. 0. 0.]\n",
            " [1. 0. 0. 0.]\n",
            " [1. 0. 0. 0.]\n",
            " [1. 0. 0. 0.]\n",
            " [1. 0. 0. 0.]\n",
            " [1. 0. 0. 0.]\n",
            " [1. 0. 0. 0.]\n",
            " [1. 0. 0. 0.]\n",
            " [1. 0. 0. 0.]\n",
            " [1. 0. 0. 0.]\n",
            " [1. 0. 0. 0.]\n",
            " [1. 0. 0. 0.]\n",
            " [1. 0. 0. 0.]\n",
            " [1. 0. 0. 0.]\n",
            " [1. 0. 0. 0.]\n",
            " [1. 0. 0. 0.]\n",
            " [1. 0. 0. 0.]\n",
            " [1. 0. 0. 0.]\n",
            " [1. 0. 0. 0.]\n",
            " [1. 0. 0. 0.]\n",
            " [1. 0. 0. 0.]\n",
            " [1. 0. 0. 0.]]\n"
          ],
          "name": "stdout"
        }
      ]
    },
    {
      "cell_type": "code",
      "metadata": {
        "colab": {
          "base_uri": "https://localhost:8080/"
        },
        "id": "BtTr4JgFU4g8",
        "outputId": "42abbc50-5af0-4e6f-ba3f-444678c7ae33"
      },
      "source": [
        "print('Raw Sample: ', ' '.join([w[0] for w in sentences[0]]))\n",
        "print('Raw Label: ', ' '.join([w[1] for w in sentences[0]]))\n",
        "print('After processing, sample:', X[0])\n",
        "print('After processing, labels:', y[0])\n"
      ],
      "execution_count": null,
      "outputs": [
        {
          "output_type": "stream",
          "text": [
            "Raw Sample:  value for money completed using a year now some times the screen cast or chrome cast gets stuck which is very rarely but this issue comes\n",
            "Raw Label:  O O O O O O O O BOC IOC IOC IOC IOC IOC IOC IOC IOC IOC O O O O O O O O\n",
            "After processing, sample: [3228 3997 4230 4541 1647 4827  483   82 2250 4839 3899 2352 2408 2534\n",
            " 3766 2408 3088 2786 2665 4543 1796 2905 4678 3001 5032 1310    0    0\n",
            "    0    0    0    0    0    0    0    0    0    0    0    0    0    0\n",
            "    0    0    0    0    0    0    0    0    0    0    0    0    0    0\n",
            "    0    0    0    0    0    0    0    0    0    0    0    0    0    0\n",
            "    0    0    0    0    0]\n",
            "After processing, labels: [[0. 0. 1. 0.]\n",
            " [0. 0. 1. 0.]\n",
            " [0. 0. 1. 0.]\n",
            " [0. 0. 1. 0.]\n",
            " [0. 0. 1. 0.]\n",
            " [0. 0. 1. 0.]\n",
            " [0. 0. 1. 0.]\n",
            " [0. 0. 1. 0.]\n",
            " [0. 1. 0. 0.]\n",
            " [0. 0. 0. 1.]\n",
            " [0. 0. 0. 1.]\n",
            " [0. 0. 0. 1.]\n",
            " [0. 0. 0. 1.]\n",
            " [0. 0. 0. 1.]\n",
            " [0. 0. 0. 1.]\n",
            " [0. 0. 0. 1.]\n",
            " [0. 0. 0. 1.]\n",
            " [0. 0. 0. 1.]\n",
            " [0. 0. 1. 0.]\n",
            " [0. 0. 1. 0.]\n",
            " [0. 0. 1. 0.]\n",
            " [0. 0. 1. 0.]\n",
            " [0. 0. 1. 0.]\n",
            " [0. 0. 1. 0.]\n",
            " [0. 0. 1. 0.]\n",
            " [0. 0. 1. 0.]\n",
            " [1. 0. 0. 0.]\n",
            " [1. 0. 0. 0.]\n",
            " [1. 0. 0. 0.]\n",
            " [1. 0. 0. 0.]\n",
            " [1. 0. 0. 0.]\n",
            " [1. 0. 0. 0.]\n",
            " [1. 0. 0. 0.]\n",
            " [1. 0. 0. 0.]\n",
            " [1. 0. 0. 0.]\n",
            " [1. 0. 0. 0.]\n",
            " [1. 0. 0. 0.]\n",
            " [1. 0. 0. 0.]\n",
            " [1. 0. 0. 0.]\n",
            " [1. 0. 0. 0.]\n",
            " [1. 0. 0. 0.]\n",
            " [1. 0. 0. 0.]\n",
            " [1. 0. 0. 0.]\n",
            " [1. 0. 0. 0.]\n",
            " [1. 0. 0. 0.]\n",
            " [1. 0. 0. 0.]\n",
            " [1. 0. 0. 0.]\n",
            " [1. 0. 0. 0.]\n",
            " [1. 0. 0. 0.]\n",
            " [1. 0. 0. 0.]\n",
            " [1. 0. 0. 0.]\n",
            " [1. 0. 0. 0.]\n",
            " [1. 0. 0. 0.]\n",
            " [1. 0. 0. 0.]\n",
            " [1. 0. 0. 0.]\n",
            " [1. 0. 0. 0.]\n",
            " [1. 0. 0. 0.]\n",
            " [1. 0. 0. 0.]\n",
            " [1. 0. 0. 0.]\n",
            " [1. 0. 0. 0.]\n",
            " [1. 0. 0. 0.]\n",
            " [1. 0. 0. 0.]\n",
            " [1. 0. 0. 0.]\n",
            " [1. 0. 0. 0.]\n",
            " [1. 0. 0. 0.]\n",
            " [1. 0. 0. 0.]\n",
            " [1. 0. 0. 0.]\n",
            " [1. 0. 0. 0.]\n",
            " [1. 0. 0. 0.]\n",
            " [1. 0. 0. 0.]\n",
            " [1. 0. 0. 0.]\n",
            " [1. 0. 0. 0.]\n",
            " [1. 0. 0. 0.]\n",
            " [1. 0. 0. 0.]\n",
            " [1. 0. 0. 0.]]\n"
          ],
          "name": "stdout"
        }
      ]
    },
    {
      "cell_type": "code",
      "metadata": {
        "colab": {
          "base_uri": "https://localhost:8080/"
        },
        "id": "hUxGrx0OU7id",
        "outputId": "c1309621-f9d9-43fc-c39a-bfe96833c308"
      },
      "source": [
        "from google.colab import drive\n",
        "drive.mount('/content/drive',force_remount=True)"
      ],
      "execution_count": null,
      "outputs": [
        {
          "output_type": "stream",
          "text": [
            "Mounted at /content/drive\n"
          ],
          "name": "stdout"
        }
      ]
    },
    {
      "cell_type": "code",
      "metadata": {
        "colab": {
          "base_uri": "https://localhost:8080/"
        },
        "id": "i7RXfJm3SAbx",
        "outputId": "2ca7a665-9343-4530-e353-a125b1cec5d7"
      },
      "source": [
        "from google.colab import drive\n",
        "drive.mount('/content/drive',force_remount=True)"
      ],
      "execution_count": null,
      "outputs": [
        {
          "output_type": "stream",
          "text": [
            "Mounted at /content/drive\n"
          ],
          "name": "stdout"
        }
      ]
    },
    {
      "cell_type": "code",
      "metadata": {
        "colab": {
          "base_uri": "https://localhost:8080/"
        },
        "id": "G8VG4dumVALo",
        "outputId": "362e0cec-7a52-4992-d5b1-c3d65e444717"
      },
      "source": [
        "from gensim.models import FastText\n",
        "import os\n",
        "import pathlib\n",
        "path_to_glove_file = os.path.join(\n",
        "    os.path.expanduser(\"~\"), \"/content/drive/MyDrive/wiki/wiki-news-300d-1M.vec\"\n",
        ")\n",
        "\n",
        "embeddings_index = {}\n",
        "with open(path_to_glove_file) as f:\n",
        "    for line in f:\n",
        "        word, coefs = line.split(maxsplit=1)\n",
        "        coefs = np.fromstring(coefs, \"f\", sep=\" \")\n",
        "        embeddings_index[word] = coefs\n",
        "\n",
        "print(\"Found %s word vectors.\" % len(embeddings_index))\n",
        "embeddings_index = {}\n",
        "with open(path_to_glove_file) as f:\n",
        "    for line in f:\n",
        "        word, coefs = line.split(maxsplit=1)\n",
        "        coefs = np.fromstring(coefs, \"f\", sep=\" \")\n",
        "        embeddings_index[word] = coefs\n",
        "\n",
        "print(\"Found %s word vectors.\" % len(embeddings_index))"
      ],
      "execution_count": null,
      "outputs": [
        {
          "output_type": "stream",
          "text": [
            "Found 999995 word vectors.\n",
            "Found 999995 word vectors.\n"
          ],
          "name": "stdout"
        }
      ]
    },
    {
      "cell_type": "code",
      "metadata": {
        "id": "cBWVzqz7ZoJm"
      },
      "source": [
        "EMBEDDING_DIM=300\n",
        "num_tokens=n_words+2\n",
        "embedding_matrix = np.zeros((num_tokens, EMBEDDING_DIM))\n",
        "for word, i in word2idx.items():\n",
        "    embedding_vector = embeddings_index.get(word)\n",
        "    if embedding_vector is not None:\n",
        "        # words not found in embedding index will be all-zeros.\n",
        "        embedding_matrix[i] = embedding_vector"
      ],
      "execution_count": null,
      "outputs": []
    },
    {
      "cell_type": "code",
      "metadata": {
        "colab": {
          "base_uri": "https://localhost:8080/"
        },
        "id": "84pjfG09ZssO",
        "outputId": "840d32b9-b2d7-4212-c34f-17c9173c8b08"
      },
      "source": [
        "from keras.models import Model, Input\n",
        "from keras.layers import LSTM, Embedding, Dense, TimeDistributed, Dropout, Bidirectional\n",
        "from keras_contrib.layers import CRF\n",
        "#from tensorflow.keras.layers import Embedding\n",
        "from keras.layers import Embedding\n",
        "#embedding_layer = Embedding(\n",
        "   # num_tokens,\n",
        "   # embedding_dim,\n",
        "   # embeddings_initializer=keras.initializers.Constant(embedding_matrix),\n",
        "   # trainable=False,\n",
        "#)\n",
        "\n",
        "# Model definition\n",
        "input = Input(shape=(MAX_LEN,))\n",
        "embedding =Embedding(num_tokens, 300, weights=[embedding_matrix], input_length=MAX_LEN, trainable=True)(input) # \n",
        "model = Bidirectional(LSTM(units=50, return_sequences=True,recurrent_dropout=0.1))(embedding)  # variational biLSTM\n",
        "model = TimeDistributed(Dense(50, activation=\"relu\"))(model)  # a dense layer as suggested by neuralNer\n",
        "crf = CRF(n_tags+1)  # CRF layer, n_tags+1(PAD)\n",
        "out = crf(model)  # output\n",
        "\n",
        "model = Model(input, out)\n",
        "model.compile(optimizer=\"rmsprop\", loss=crf.loss_function, metrics=[crf.accuracy])\n",
        "\n",
        "model.summary()\n"
      ],
      "execution_count": null,
      "outputs": [
        {
          "output_type": "stream",
          "text": [
            "WARNING:tensorflow:From /tensorflow-1.15.2/python3.7/tensorflow_core/python/ops/resource_variable_ops.py:1630: calling BaseResourceVariable.__init__ (from tensorflow.python.ops.resource_variable_ops) with constraint is deprecated and will be removed in a future version.\n",
            "Instructions for updating:\n",
            "If using Keras pass *_constraint arguments to layers.\n"
          ],
          "name": "stdout"
        },
        {
          "output_type": "stream",
          "text": [
            "/usr/local/lib/python3.7/dist-packages/keras_contrib/layers/crf.py:346: UserWarning: CRF.loss_function is deprecated and it might be removed in the future. Please use losses.crf_loss instead.\n",
            "  warnings.warn('CRF.loss_function is deprecated '\n",
            "/usr/local/lib/python3.7/dist-packages/keras_contrib/layers/crf.py:353: UserWarning: CRF.accuracy is deprecated and it might be removed in the future. Please use metrics.crf_accuracy\n",
            "  warnings.warn('CRF.accuracy is deprecated and it '\n"
          ],
          "name": "stderr"
        },
        {
          "output_type": "stream",
          "text": [
            "WARNING:tensorflow:From /tensorflow-1.15.2/python3.7/tensorflow_core/python/ops/math_ops.py:2509: where (from tensorflow.python.ops.array_ops) is deprecated and will be removed in a future version.\n",
            "Instructions for updating:\n",
            "Use tf.where in 2.0, which has the same broadcast rule as np.where\n",
            "Model: \"model_1\"\n",
            "_________________________________________________________________\n",
            "Layer (type)                 Output Shape              Param #   \n",
            "=================================================================\n",
            "input_1 (InputLayer)         (None, 75)                0         \n",
            "_________________________________________________________________\n",
            "embedding_1 (Embedding)      (None, 75, 300)           1532700   \n",
            "_________________________________________________________________\n",
            "bidirectional_1 (Bidirection (None, 75, 100)           140400    \n",
            "_________________________________________________________________\n",
            "time_distributed_1 (TimeDist (None, 75, 50)            5050      \n",
            "_________________________________________________________________\n",
            "crf_1 (CRF)                  (None, 75, 4)             228       \n",
            "=================================================================\n",
            "Total params: 1,678,378\n",
            "Trainable params: 1,678,378\n",
            "Non-trainable params: 0\n",
            "_________________________________________________________________\n"
          ],
          "name": "stdout"
        }
      ]
    },
    {
      "cell_type": "code",
      "metadata": {
        "colab": {
          "base_uri": "https://localhost:8080/"
        },
        "id": "eKDapBYJZvql",
        "outputId": "540432af-f750-4d66-9197-ace0be2e2d5e"
      },
      "source": [
        "print(X.shape)\n",
        "print(np.array(y).shape)\n",
        "# print(y)\n"
      ],
      "execution_count": null,
      "outputs": [
        {
          "output_type": "stream",
          "text": [
            "(12044, 75)\n",
            "(12044, 75, 4)\n"
          ],
          "name": "stdout"
        }
      ]
    },
    {
      "cell_type": "code",
      "metadata": {
        "colab": {
          "base_uri": "https://localhost:8080/"
        },
        "id": "Ax8U7IiyZx52",
        "outputId": "c604b1f8-eb2e-4905-e7d3-cb0c85e6747c"
      },
      "source": [
        "history = model.fit(X_tr, np.array(y_tr), batch_size=20, epochs=5,validation_split=0.1, verbose=2)"
      ],
      "execution_count": null,
      "outputs": [
        {
          "output_type": "stream",
          "text": [
            "WARNING:tensorflow:From /tensorflow-1.15.2/python3.7/keras/backend/tensorflow_backend.py:422: The name tf.global_variables is deprecated. Please use tf.compat.v1.global_variables instead.\n",
            "\n",
            "Train on 9755 samples, validate on 1084 samples\n",
            "Epoch 1/5\n",
            " - 73s - loss: 0.1064 - crf_viterbi_accuracy: 0.9498 - val_loss: 0.0674 - val_crf_viterbi_accuracy: 0.9570\n",
            "Epoch 2/5\n",
            " - 76s - loss: 0.0515 - crf_viterbi_accuracy: 0.9604 - val_loss: 0.0417 - val_crf_viterbi_accuracy: 0.9585\n",
            "Epoch 3/5\n",
            " - 75s - loss: 0.0311 - crf_viterbi_accuracy: 0.9629 - val_loss: 0.0275 - val_crf_viterbi_accuracy: 0.9601\n",
            "Epoch 4/5\n",
            " - 75s - loss: 0.0180 - crf_viterbi_accuracy: 0.9657 - val_loss: 0.0177 - val_crf_viterbi_accuracy: 0.9614\n",
            "Epoch 5/5\n",
            " - 77s - loss: 0.0075 - crf_viterbi_accuracy: 0.9681 - val_loss: 0.0101 - val_crf_viterbi_accuracy: 0.9633\n"
          ],
          "name": "stdout"
        }
      ]
    },
    {
      "cell_type": "code",
      "metadata": {
        "colab": {
          "base_uri": "https://localhost:8080/"
        },
        "id": "VMhVKpWgZ0WN",
        "outputId": "0c174fee-163a-4e0d-e04b-bf8ec9e5831a"
      },
      "source": [
        "pred_cat = model.predict(X_te)\n",
        "pred = np.argmax(pred_cat, axis=-1)\n",
        "y_te_true = np.argmax(y_te, -1)\n",
        "print(len(y_te_true))"
      ],
      "execution_count": null,
      "outputs": [
        {
          "output_type": "stream",
          "text": [
            "1205\n"
          ],
          "name": "stdout"
        }
      ]
    },
    {
      "cell_type": "code",
      "metadata": {
        "colab": {
          "base_uri": "https://localhost:8080/"
        },
        "id": "30CyePc4Z2Kp",
        "outputId": "ae11f7fe-15c5-4d60-f0a5-c6745e1deb44"
      },
      "source": [
        "from sklearn_crfsuite.metrics import flat_classification_report\n",
        "\n",
        "# Convert the index to tag\n",
        "pred_tag = [[idx2tag[i] for i in row] for row in pred]\n",
        "y_te_true_tag = [[idx2tag[i] for i in row] for row in y_te_true] \n",
        "report = flat_classification_report(y_pred=pred_tag, y_true=y_te_true_tag)\n",
        "print(report)"
      ],
      "execution_count": null,
      "outputs": [
        {
          "output_type": "stream",
          "text": [
            "              precision    recall  f1-score   support\n",
            "\n",
            "         BOC       0.57      0.52      0.55      1047\n",
            "         IOC       0.71      0.62      0.66      3728\n",
            "           O       0.86      0.90      0.88     10796\n",
            "         PAD       1.00      1.00      1.00     74804\n",
            "\n",
            "    accuracy                           0.97     90375\n",
            "   macro avg       0.78      0.76      0.77     90375\n",
            "weighted avg       0.97      0.97      0.97     90375\n",
            "\n"
          ],
          "name": "stdout"
        }
      ]
    },
    {
      "cell_type": "code",
      "metadata": {
        "colab": {
          "base_uri": "https://localhost:8080/",
          "height": 164
        },
        "id": "Z6ZO_rJfvktH",
        "outputId": "9482f3df-6517-4dc1-cc8d-9462bbd3772d"
      },
      "source": [
        "#print(history.history[''])"
      ],
      "execution_count": null,
      "outputs": [
        {
          "output_type": "error",
          "ename": "KeyError",
          "evalue": "ignored",
          "traceback": [
            "\u001b[0;31m---------------------------------------------------------------------------\u001b[0m",
            "\u001b[0;31mKeyError\u001b[0m                                  Traceback (most recent call last)",
            "\u001b[0;32m<ipython-input-24-9ebf5008524b>\u001b[0m in \u001b[0;36m<module>\u001b[0;34m()\u001b[0m\n\u001b[0;32m----> 1\u001b[0;31m \u001b[0mprint\u001b[0m\u001b[0;34m(\u001b[0m\u001b[0mhistory\u001b[0m\u001b[0;34m.\u001b[0m\u001b[0mhistory\u001b[0m\u001b[0;34m[\u001b[0m\u001b[0;34m''\u001b[0m\u001b[0;34m]\u001b[0m\u001b[0;34m)\u001b[0m\u001b[0;34m\u001b[0m\u001b[0;34m\u001b[0m\u001b[0m\n\u001b[0m",
            "\u001b[0;31mKeyError\u001b[0m: ''"
          ]
        }
      ]
    },
    {
      "cell_type": "code",
      "metadata": {
        "id": "CsgaIjTqyVOW"
      },
      "source": [
        ""
      ],
      "execution_count": null,
      "outputs": []
    },
    {
      "cell_type": "code",
      "metadata": {
        "colab": {
          "base_uri": "https://localhost:8080/"
        },
        "id": "BsdyHTN_ag10",
        "outputId": "843351b3-1eac-4b6b-95ed-8582ea1e862a"
      },
      "source": [
        "print(len(y_te_true_tag))\n",
        "print(len(pred_tag))\n",
        "import itertools\n",
        "flatten = itertools.chain.from_iterable\n",
        "pred_tag=list(flatten(pred_tag))\n",
        "y_te_true_tag=list(flatten(y_te_true_tag))\n",
        "print(len(y_te_true_tag))\n",
        "print(len(pred_tag))"
      ],
      "execution_count": null,
      "outputs": [
        {
          "output_type": "stream",
          "text": [
            "1205\n",
            "1205\n",
            "90375\n",
            "90375\n"
          ],
          "name": "stdout"
        }
      ]
    },
    {
      "cell_type": "code",
      "metadata": {
        "colab": {
          "base_uri": "https://localhost:8080/"
        },
        "id": "6Bq4qkWeZD0v",
        "outputId": "4b64e0b4-dfae-4cfb-b45b-bb38c1a408ba"
      },
      "source": [
        "from sklearn.metrics import confusion_matrix\n",
        "cf_matrix = confusion_matrix(y_te_true_tag,pred_tag)\n",
        "print(cf_matrix)"
      ],
      "execution_count": null,
      "outputs": [
        {
          "output_type": "stream",
          "text": [
            "[[  547   128   372     0]\n",
            " [  159  2304  1265     0]\n",
            " [  246   829  9721     0]\n",
            " [    0     0     0 74804]]\n"
          ],
          "name": "stdout"
        }
      ]
    },
    {
      "cell_type": "code",
      "metadata": {
        "id": "rqnHJMafnVbe"
      },
      "source": [
        "tags=['BOC','IOC','O','PAD']"
      ],
      "execution_count": null,
      "outputs": []
    },
    {
      "cell_type": "code",
      "metadata": {
        "id": "o2Qh2hPGmoXw"
      },
      "source": [
        "cm_df = pd.DataFrame(cf_matrix,\n",
        "                     index=tags, \n",
        "                     columns = tags)"
      ],
      "execution_count": null,
      "outputs": []
    },
    {
      "cell_type": "code",
      "metadata": {
        "colab": {
          "base_uri": "https://localhost:8080/",
          "height": 295
        },
        "id": "rtSh5pLs5wEN",
        "outputId": "bfdc84e4-9d48-4f79-b07b-0284842b4101"
      },
      "source": [
        "import seaborn as sns\n",
        "plt.figure(figsize=(5,4))\n",
        "sns.heatmap(cm_df, annot=True,fmt=\"d\",cmap='Blues')\n",
        "plt.title('FastText-BI-LSTM-CRF')\n",
        "plt.ylabel('Actal Values')\n",
        "plt.xlabel('Predicted Values')\n",
        "plt.savefig('CM-BI-LSTM-CRF-Fast-tv.jpg')\n",
        "plt.show()\n"
      ],
      "execution_count": null,
      "outputs": [
        {
          "output_type": "display_data",
          "data": {
            "image/png": "[encoded data removed]",
            "text/plain": [
              "<Figure size 360x288 with 2 Axes>"
            ]
          },
          "metadata": {
            "tags": [],
            "needs_background": "light"
          }
        }
      ]
    },
    {
      "cell_type": "code",
      "metadata": {
        "colab": {
          "base_uri": "https://localhost:8080/",
          "height": 17
        },
        "id": "KTYFOTVkoa0T",
        "outputId": "ab297cc7-c7c3-4fc1-c082-fe879d8d9753"
      },
      "source": [
        "from google.colab import files\n",
        "files.download('CM-BI-LSTM-CRF-Fast-tv.jpg')"
      ],
      "execution_count": null,
      "outputs": [
        {
          "output_type": "display_data",
          "data": {
            "application/javascript": [
              "\n",
              "    async function download(id, filename, size) {\n",
              "      if (!google.colab.kernel.accessAllowed) {\n",
              "        return;\n",
              "      }\n",
              "      const div = document.createElement('div');\n",
              "      const label = document.createElement('label');\n",
              "      label.textContent = `Downloading \"${filename}\": `;\n",
              "      div.appendChild(label);\n",
              "      const progress = document.createElement('progress');\n",
              "      progress.max = size;\n",
              "      div.appendChild(progress);\n",
              "      document.body.appendChild(div);\n",
              "\n",
              "      const buffers = [];\n",
              "      let downloaded = 0;\n",
              "\n",
              "      const channel = await google.colab.kernel.comms.open(id);\n",
              "      // Send a message to notify the kernel that we're ready.\n",
              "      channel.send({})\n",
              "\n",
              "      for await (const message of channel.messages) {\n",
              "        // Send a message to notify the kernel that we're ready.\n",
              "        channel.send({})\n",
              "        if (message.buffers) {\n",
              "          for (const buffer of message.buffers) {\n",
              "            buffers.push(buffer);\n",
              "            downloaded += buffer.byteLength;\n",
              "            progress.value = downloaded;\n",
              "          }\n",
              "        }\n",
              "      }\n",
              "      const blob = new Blob(buffers, {type: 'application/binary'});\n",
              "      const a = document.createElement('a');\n",
              "      a.href = window.URL.createObjectURL(blob);\n",
              "      a.download = filename;\n",
              "      div.appendChild(a);\n",
              "      a.click();\n",
              "      div.remove();\n",
              "    }\n",
              "  "
            ],
            "text/plain": [
              "<IPython.core.display.Javascript object>"
            ]
          },
          "metadata": {
            "tags": []
          }
        },
        {
          "output_type": "display_data",
          "data": {
            "application/javascript": [
              "download(\"download_708a2489-d35d-47cd-ac0e-6b328182cf72\", \"CM-BI-LSTM-CRF-Fast-tv.jpg\", 23412)"
            ],
            "text/plain": [
              "<IPython.core.display.Javascript object>"
            ]
          },
          "metadata": {
            "tags": []
          }
        }
      ]
    },
    {
      "cell_type": "code",
      "metadata": {
        "id": "eqUlVsPzwm5C"
      },
      "source": [
        "from google.colab import files\n",
        "files.download('CausePhrasePlot-mobile.jpg')"
      ],
      "execution_count": null,
      "outputs": []
    }
  ]
}